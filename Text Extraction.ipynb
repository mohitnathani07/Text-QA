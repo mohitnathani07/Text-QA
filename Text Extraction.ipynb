{
 "cells": [
  {
   "cell_type": "code",
   "execution_count": 10,
   "metadata": {
    "id": "ZuBrfAfzYFf0"
   },
   "outputs": [],
   "source": [
    "import fitz  # PyMuPDF\n",
    "import pdfplumber\n",
    "from PIL import Image\n",
    "import io\n",
    "from pdf2image import convert_from_path\n",
    "import pytesseract  # Tesseract OCR\n",
    "\n"
   ]
  },
  {
   "cell_type": "code",
   "execution_count": 17,
   "metadata": {
    "colab": {
     "base_uri": "https://localhost:8080/"
    },
    "id": "OgGBnBqxbAAM",
    "outputId": "553c4a07-17d4-4e7e-dc37-a828b15f6f2f"
   },
   "outputs": [
    {
     "name": "stderr",
     "output_type": "stream",
     "text": [
      "WARNING:easyocr.easyocr:Downloading detection model, please wait. This may take several minutes depending upon your network connection.\n"
     ]
    },
    {
     "name": "stdout",
     "output_type": "stream",
     "text": [
      "Progress: |██████████████████████████████████████████████████| 100.0% Complete"
     ]
    },
    {
     "name": "stderr",
     "output_type": "stream",
     "text": [
      "WARNING:easyocr.easyocr:Downloading recognition model, please wait. This may take several minutes depending upon your network connection.\n"
     ]
    },
    {
     "name": "stdout",
     "output_type": "stream",
     "text": [
      "Progress: |██████████████████████████████████████████████████| 100.0% Complete"
     ]
    }
   ],
   "source": [
    "from pdf2image import convert_from_path\n",
    "import easyocr\n",
    "\n",
    "# Initialize the EasyOCR reader\n",
    "reader = easyocr.Reader(['en'])\n",
    "\n",
    "# Convert PDF pages to images\n",
    "def convert_pdf_to_images(file_path):\n",
    "    # Convert PDF to list of PIL images (one image per page)\n",
    "    images = convert_from_path(file_path)\n",
    "    return images\n",
    "\n",
    "# Use EasyOCR to extract text from each page image\n",
    "def extract_text_with_easyocr_from_paths(image_paths):\n",
    "    text_data = []\n",
    "    for page_num, image_path in enumerate(image_paths):\n",
    "        # Perform OCR on the image file path\n",
    "        text = reader.readtext(image_path, detail=0)  # detail=0 returns just the text\n",
    "        page_text = \" \".join(text)  # Join text from different parts of the page\n",
    "        text_data.append((page_text, page_num))\n",
    "    return text_data\n",
    "\n",
    "\n"
   ]
  },
  {
   "cell_type": "code",
   "execution_count": 23,
   "metadata": {
    "id": "rzVkas9M5CC9"
   },
   "outputs": [],
   "source": [
    "import os\n",
    "file_path = '/content/diabetes-mellitus.pdf'\n",
    "images = convert_pdf_to_images(file_path)\n",
    "image_paths = []\n",
    "for i, image in enumerate(images):\n",
    "        image_path = os.path.join('/content/', f'page_{i + 1}.png')\n",
    "        image.save(image_path, 'PNG')  # Save as PNG\n",
    "        image_paths.append(image_path)"
   ]
  },
  {
   "cell_type": "code",
   "execution_count": null,
   "metadata": {
    "id": "7wf_9GcDh3eW"
   },
   "outputs": [],
   "source": [
    "extracted_text = extract_text_with_easyocr_from_paths(image_paths)"
   ]
  },
  {
   "cell_type": "code",
   "execution_count": 28,
   "metadata": {
    "id": "38VUwbRb4e9u"
   },
   "outputs": [],
   "source": [
    "os.makedirs('/content/output', exist_ok=True)"
   ]
  },
  {
   "cell_type": "code",
   "execution_count": 29,
   "metadata": {
    "colab": {
     "base_uri": "https://localhost:8080/"
    },
    "id": "HvmYqNjmw9eX",
    "outputId": "94de2515-65ac-4138-ac24-6e39e60ea9c8"
   },
   "outputs": [
    {
     "name": "stdout",
     "output_type": "stream",
     "text": [
      "Data saved to \n"
     ]
    }
   ],
   "source": [
    "with open(\"/content/output/text.txt\", \"w\") as file:\n",
    "    for text, _ in extracted_text:  # assuming each item is a tuple with the format (text, index)\n",
    "        file.write(text + \"\\n\\n\")  # add extra newline for readability between entries\n",
    "\n",
    "print(f\"Data saved to \")"
   ]
  }
 ],
 "metadata": {
  "accelerator": "GPU",
  "colab": {
   "gpuType": "T4",
   "provenance": []
  },
  "kernelspec": {
   "display_name": "Python 3",
   "name": "python3"
  },
  "language_info": {
   "name": "python"
  }
 },
 "nbformat": 4,
 "nbformat_minor": 0
}
